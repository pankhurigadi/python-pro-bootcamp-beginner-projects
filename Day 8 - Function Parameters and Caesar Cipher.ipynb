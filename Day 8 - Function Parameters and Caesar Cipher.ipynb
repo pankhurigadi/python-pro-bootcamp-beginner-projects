{
 "cells": [
  {
   "cell_type": "markdown",
   "metadata": {},
   "source": [
    "# Functions with inputs"
   ]
  },
  {
   "cell_type": "code",
   "execution_count": 1,
   "metadata": {},
   "outputs": [],
   "source": [
    "# def my_function\n",
    "#do this\n",
    "#then do this\n",
    "#finally do this\n"
   ]
  },
  {
   "cell_type": "markdown",
   "metadata": {},
   "source": [
    "# Review functions"
   ]
  },
  {
   "cell_type": "code",
   "execution_count": 3,
   "metadata": {},
   "outputs": [
    {
     "name": "stdout",
     "output_type": "stream",
     "text": [
      "Hello\n",
      "How do you do?\n",
      "Isn't the weather nice today?\n"
     ]
    }
   ],
   "source": [
    "#create a function called greet()\n",
    "#write 3 print statements inside the function\n",
    "#call the greet() function and run your code\n",
    "def greet():\n",
    "    print(\"Hello\")\n",
    "    print(\"How do you do?\")\n",
    "    print(\"Isn't the weather nice today?\")\n",
    "    \n",
    "greet()"
   ]
  },
  {
   "cell_type": "code",
   "execution_count": 6,
   "metadata": {},
   "outputs": [
    {
     "name": "stdout",
     "output_type": "stream",
     "text": [
      "Hello Pankhuri\n",
      "How do you do Pankhuri?\n"
     ]
    }
   ],
   "source": [
    "#every time i call the greet()function, we will get the same lines repeated.\n",
    "#add the name of a variable in the () to create some variation. Create a function with an input\n",
    "\n",
    "def greet_with_name(name):\n",
    "    print(f\"Hello {name}\")\n",
    "    print(f\"How do you do {name}?\")\n",
    "    \n",
    "greet_with_name(\"Pankhuri\")\n",
    "\n"
   ]
  },
  {
   "cell_type": "code",
   "execution_count": null,
   "metadata": {},
   "outputs": [],
   "source": []
  }
 ],
 "metadata": {
  "kernelspec": {
   "display_name": "Python 3",
   "language": "python",
   "name": "python3"
  },
  "language_info": {
   "codemirror_mode": {
    "name": "ipython",
    "version": 3
   },
   "file_extension": ".py",
   "mimetype": "text/x-python",
   "name": "python",
   "nbconvert_exporter": "python",
   "pygments_lexer": "ipython3",
   "version": "3.8.5"
  }
 },
 "nbformat": 4,
 "nbformat_minor": 4
}
