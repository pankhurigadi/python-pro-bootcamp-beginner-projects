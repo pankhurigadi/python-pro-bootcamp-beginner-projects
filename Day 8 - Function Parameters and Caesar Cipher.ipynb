{
 "cells": [
  {
   "cell_type": "markdown",
   "metadata": {},
   "source": [
    "# Functions with inputs"
   ]
  },
  {
   "cell_type": "code",
   "execution_count": 1,
   "metadata": {},
   "outputs": [],
   "source": [
    "# def my_function\n",
    "#do this\n",
    "#then do this\n",
    "#finally do this\n"
   ]
  },
  {
   "cell_type": "markdown",
   "metadata": {},
   "source": [
    "# Review functions"
   ]
  },
  {
   "cell_type": "code",
   "execution_count": 3,
   "metadata": {},
   "outputs": [
    {
     "name": "stdout",
     "output_type": "stream",
     "text": [
      "Hello\n",
      "How do you do?\n",
      "Isn't the weather nice today?\n"
     ]
    }
   ],
   "source": [
    "#create a function called greet()\n",
    "#write 3 print statements inside the function\n",
    "#call the greet() function and run your code\n",
    "def greet():\n",
    "    print(\"Hello\")\n",
    "    print(\"How do you do?\")\n",
    "    print(\"Isn't the weather nice today?\")\n",
    "    \n",
    "greet()"
   ]
  },
  {
   "cell_type": "code",
   "execution_count": 1,
   "metadata": {},
   "outputs": [
    {
     "name": "stdout",
     "output_type": "stream",
     "text": [
      "Hello Pankhuri\n",
      "How do you do Pankhuri?\n"
     ]
    }
   ],
   "source": [
    "#every time i call the greet()function, we will get the same lines repeated.\n",
    "#add the name of a variable in the () to create some variation. Create a function with an input\n",
    "\n",
    "def greet_with_name(name):\n",
    "    print(f\"Hello {name}\")\n",
    "    print(f\"How do you do {name}?\")\n",
    "    \n",
    "greet_with_name(\"Pankhuri\")\n",
    "\n"
   ]
  },
  {
   "cell_type": "markdown",
   "metadata": {},
   "source": [
    "# Positional vs Keyword Arguments"
   ]
  },
  {
   "cell_type": "code",
   "execution_count": 3,
   "metadata": {},
   "outputs": [
    {
     "name": "stdout",
     "output_type": "stream",
     "text": [
      "Hello Pankhuri\n",
      "What is it like in London?\n"
     ]
    }
   ],
   "source": [
    "#Functions with more than 1 input using positional arguments\n",
    "#Position must match order of the argument\n",
    "def greet_with(name,location):\n",
    "    print(f\"Hello {name}\")\n",
    "    print(f\"What is it like in {location}?\")\n",
    "greet_with(\"Pankhuri\",\"London\")"
   ]
  },
  {
   "cell_type": "code",
   "execution_count": 7,
   "metadata": {},
   "outputs": [
    {
     "name": "stdout",
     "output_type": "stream",
     "text": [
      "Hello Pankhuri\n",
      "What is it like in London?\n"
     ]
    }
   ],
   "source": [
    "#Keyword arguments\n",
    "greet_with(name=\"Pankhuri\",location=\"London\")"
   ]
  },
  {
   "cell_type": "markdown",
   "metadata": {},
   "source": [
    "# Paint area calculator"
   ]
  },
  {
   "cell_type": "markdown",
   "metadata": {},
   "source": [
    "Write a function that calculates how many cans of paint you need in order to paint a wall, given the height and width of the wall. 1 can of paint an cover 5 square metres of wall.\n",
    "\n",
    "Number of cans = (wall height x wall width)/coverage per can\n",
    "\n",
    "We cannot buy 0.6 of a can so the result should be rounded up."
   ]
  },
  {
   "cell_type": "code",
   "execution_count": 13,
   "metadata": {},
   "outputs": [
    {
     "name": "stdout",
     "output_type": "stream",
     "text": [
      "You'll need 4 cans of paint.\n"
     ]
    }
   ],
   "source": [
    "import math\n",
    "def paint_calc(height,width,cover):\n",
    "    num_of_cans=(height*width)/cover\n",
    "    round_up_cans=math.ceil(num_of_cans)\n",
    "    print(f\"You'll need {round_up_cans} cans of paint.\")\n",
    "    \n",
    "height_test=int(4)\n",
    "width_test=int(5)\n",
    "cover_test=int(5)\n",
    "\n",
    "paint_calc(height=height_test,width=width_test,cover=cover_test)   "
   ]
  },
  {
   "cell_type": "markdown",
   "metadata": {},
   "source": [
    "# Prime number calculator"
   ]
  },
  {
   "cell_type": "markdown",
   "metadata": {},
   "source": [
    "Write a function that determines if the input number is a prime number or not."
   ]
  },
  {
   "cell_type": "code",
   "execution_count": 14,
   "metadata": {},
   "outputs": [
    {
     "name": "stdout",
     "output_type": "stream",
     "text": [
      "1342\n",
      "It's not a prime number.\n"
     ]
    }
   ],
   "source": [
    "def prime_checker(number):\n",
    "    is_prime=True\n",
    "    for i in range(2,number):\n",
    "        if number % i==0:\n",
    "            is_prime=False\n",
    "    if is_prime:\n",
    "        print(\"It's a prime number.\")\n",
    "    else:\n",
    "        print(\"It's not a prime number.\")\n",
    "        \n",
    "n=int(input())\n",
    "prime_checker(number=n)"
   ]
  },
  {
   "cell_type": "markdown",
   "metadata": {},
   "source": [
    "# Caesar Cipher"
   ]
  },
  {
   "cell_type": "code",
   "execution_count": 7,
   "metadata": {},
   "outputs": [
    {
     "name": "stdout",
     "output_type": "stream",
     "text": [
      "Type 'encode' to encrypt, type 'decode'to decrypt:\n",
      "encode\n",
      "Type your messsage:\n",
      "hello\n",
      "Type the shift number:\n",
      "5\n",
      "The encoded text is mjqqt\n"
     ]
    }
   ],
   "source": [
    "alphabet=['a','b','c','d','e','f','g','h','i','j','k','l','m','n','o','p','q','r','s','t','u','v','w','x','y','z','a','b','c','d','e','f','g','h','i','j','k','l','m','n','o','p','q','r','s','t','u','v','w','x','y','z']\n",
    "direction=input(\"Type 'encode' to encrypt, type 'decode'to decrypt:\\n\")\n",
    "text=input(\"Type your messsage:\\n\").lower()\n",
    "shift=int(input(\"Type the shift number:\\n\"))\n",
    "\n",
    "#create a function called encrypt, shift each letter of the text forwards in the alphabet by the shift amount and print the encrypted text.\n",
    "def encrypt(plain_text,shift_amount):\n",
    "    cipher_text=\"\"\n",
    "    for letter in plain_text:\n",
    "        position=alphabet.index(letter)\n",
    "        new_position=position + shift_amount\n",
    "        new_letter=alphabet[new_position]\n",
    "        cipher_text+=new_letter\n",
    "    print(f'The encoded text is {cipher_text}')\n",
    "    \n",
    "encrypt(plain_text=text,shift_amount=shift)\n",
    "\n",
    "#Create a different function called decrypt which takes the text and shift as inputs\n",
    "def decrypt(cipher_text, shift_amount):\n",
    "    for letter in cipher_text:\n",
    "        position=alphabet.index(letter)\n",
    "        new_position=position-shift_amount\n",
    "        plain_text+=alphabet[new_position]\n",
    "    print(f\"The decoded text is {plain_text}\")\n",
    "\n",
    "    if direction==\"encode\":\n",
    "        encrypt(plain_text=text,shift_amount=shift)\n",
    "    elif direction==\"decode\":\n",
    "        decrypt(cipher_text=text,shift_amount=shift)\n",
    "        \n",
    "\n",
    "\n",
    "\n",
    "        \n",
    "    \n",
    "\n",
    "    "
   ]
  }
 ],
 "metadata": {
  "kernelspec": {
   "display_name": "Python 3",
   "language": "python",
   "name": "python3"
  },
  "language_info": {
   "codemirror_mode": {
    "name": "ipython",
    "version": 3
   },
   "file_extension": ".py",
   "mimetype": "text/x-python",
   "name": "python",
   "nbconvert_exporter": "python",
   "pygments_lexer": "ipython3",
   "version": "3.8.5"
  }
 },
 "nbformat": 4,
 "nbformat_minor": 4
}
