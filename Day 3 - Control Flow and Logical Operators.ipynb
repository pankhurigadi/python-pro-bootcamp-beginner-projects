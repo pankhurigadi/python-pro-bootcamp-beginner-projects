{
 "cells": [
  {
   "cell_type": "markdown",
   "metadata": {},
   "source": [
    "# Conditional statements"
   ]
  },
  {
   "cell_type": "code",
   "execution_count": 1,
   "metadata": {},
   "outputs": [
    {
     "name": "stdout",
     "output_type": "stream",
     "text": [
      "Welcome to the rollercoaster!\n",
      "What is your height in cm?170\n",
      "You can ride the rollercoaster!\n"
     ]
    }
   ],
   "source": [
    "#if/else - if condition is true do this, else do this.\n",
    "\n",
    "print(\"Welcome to the rollercoaster!\")\n",
    "height=int(input(\"What is your height in cm?\"))\n",
    "\n",
    "if height>120:\n",
    "    print(\"You can ride the rollercoaster!\")\n",
    "else:\n",
    "    print(\"Sorry, you are not tall enough to ride.\")\n",
    "    \n"
   ]
  },
  {
   "cell_type": "markdown",
   "metadata": {},
   "source": [
    "# Odd or even exercise\n"
   ]
  },
  {
   "cell_type": "markdown",
   "metadata": {},
   "source": [
    "Create a program that works out if a given number is odd or even. Even numbers can be divided by 2 with no remainder.\n",
    "\n",
    "The modulo is written as % in Python. It gives you the remainder after a division.\n",
    "\n"
   ]
  },
  {
   "cell_type": "code",
   "execution_count": 2,
   "metadata": {},
   "outputs": [
    {
     "name": "stdout",
     "output_type": "stream",
     "text": [
      "Which number do you want to check?20\n",
      "The number is even. \n"
     ]
    }
   ],
   "source": [
    "number=int(input(\"Which number do you want to check?\"))\n",
    "if number%2==0:\n",
    "    print(\"The number is even. \")\n",
    "else:\n",
    "    print(\"The number is odd. \")\n"
   ]
  },
  {
   "cell_type": "markdown",
   "metadata": {},
   "source": [
    "# Nested if statements and elif statements"
   ]
  },
  {
   "cell_type": "code",
   "execution_count": 3,
   "metadata": {},
   "outputs": [],
   "source": [
    "#if condition > 120, if not no.If yes then another if statement age <=18 pay x, else pay y.\n",
    "#example exercise - interpret BMI value based on these condition.\n"
   ]
  },
  {
   "cell_type": "markdown",
   "metadata": {},
   "source": [
    "# BMI calculator exercise"
   ]
  },
  {
   "cell_type": "markdown",
   "metadata": {},
   "source": [
    "Write a program that interprets the BMI based on a user's weight and height. \n",
    "\n",
    "Interpretation based on BMI value.\n",
    "\n",
    "Under 18.5 = underweight\n",
    "\n",
    "Over 18.5 but below 25 = normal weight\n",
    "\n",
    "Over 25 but below 30 = overweight \n",
    "\n",
    "Over 30 but below 35 = obese\n",
    "\n",
    "Above 35 = clinically obese"
   ]
  },
  {
   "cell_type": "code",
   "execution_count": 12,
   "metadata": {},
   "outputs": [
    {
     "name": "stdout",
     "output_type": "stream",
     "text": [
      "Enter your height in m: 1.75\n",
      "Enter your weight in kg: 55\n",
      "Your BMI is 0, you are underweight.\n"
     ]
    }
   ],
   "source": [
    "#if/elif/else is a group of functions. After checking < 18.5 is false, only then will it move to next line so we can write < 25 which automatically means 18.5 < BMI < 25.\n",
    "\n",
    "\n",
    "height=float(input(\"Enter your height in m: \"))\n",
    "weight=float(input(\"Enter your weight in kg: \"))\n",
    "\n",
    "BMI=round((height/(weight**2)))\n",
    "\n",
    "type(BMI)\n",
    "\n",
    "if BMI< 18.5:\n",
    "    print(f\"Your BMI is {BMI}, you are underweight.\")\n",
    "elif BMI < 25:\n",
    "    print(f\"Your BMI is {BMI}, you are normal weight.\")\n",
    "elif BMI < 30:\n",
    "    print(f\"Your BMI is {BMI}, you are overweight.\")\n",
    "elif BMI < 35:\n",
    "    print(f\"Your BMI is {BMI}, you are obese.\")\n",
    "else:\n",
    "    print(f\"Your BMI is {BMI}, you are clinically obese.\")\n",
    "    \n",
    "    \n",
    "\n",
    "    \n",
    "\n",
    "\n"
   ]
  },
  {
   "cell_type": "markdown",
   "metadata": {},
   "source": [
    "# Leap year challenge"
   ]
  },
  {
   "cell_type": "markdown",
   "metadata": {},
   "source": [
    "Write a program that works out whether a given year is a leap year. A normal year has 365 days, leap years have 366, with an extra day in February.\n",
    "\n",
    "This is how you work out whether if a prticular year is a leap year:\n",
    "\n",
    "on every year that is evenly divisible by 4\n",
    "except every year that is evenly divisible by 100\n",
    "unless the year is also evenly divisible by 400.\n",
    "\n"
   ]
  },
  {
   "cell_type": "code",
   "execution_count": 2,
   "metadata": {},
   "outputs": [
    {
     "name": "stdout",
     "output_type": "stream",
     "text": [
      "Which year do you want to check?2004\n",
      "2004 is a leap year\n"
     ]
    }
   ],
   "source": [
    "year=int(input(\"Which year do you want to check?\"))\n",
    "\n",
    "#every year evenly divisible by 4 (excluding divisible by 100/including remainders not equal to 0. unless evenly divisible by 400).\n",
    "\n",
    "if year%4==0:\n",
    "    print(f\"{year} is a leap year\")\n",
    "elif year%100==0:\n",
    "    print(f\"{year} is a leap year\")\n",
    "elif year%400==0:\n",
    "    print(f\"{year} is a leap year\")\n",
    "else:\n",
    "    print(f\"{year} is not a leap year\")\n",
    "\n",
    "\n",
    "\n",
    "    \n"
   ]
  },
  {
   "cell_type": "markdown",
   "metadata": {},
   "source": [
    "# Multiple if statements in succession"
   ]
  },
  {
   "cell_type": "code",
   "execution_count": 3,
   "metadata": {},
   "outputs": [],
   "source": [
    "#if condition 1:\n",
    "#do A\n",
    "#elif condition 2:\n",
    "#do B\n",
    "#else:do C\n"
   ]
  },
  {
   "cell_type": "code",
   "execution_count": 4,
   "metadata": {},
   "outputs": [],
   "source": [
    "#Multiple ifs - looks through each condition.\n",
    "#if condition 1: do a, if condition 2: do b, if condition 3: do c."
   ]
  },
  {
   "cell_type": "markdown",
   "metadata": {},
   "source": [
    "# Example\n",
    "\n"
   ]
  },
  {
   "cell_type": "code",
   "execution_count": 1,
   "metadata": {},
   "outputs": [
    {
     "name": "stdout",
     "output_type": "stream",
     "text": [
      "Welcome to the rollercoaster!\n",
      "What is your height in cm? 180\n",
      "You can ride the rollercoaster!\n",
      "What is your age? 21\n",
      "Please pay $12. \n",
      "Do you want a photo taken? Y or N. Y\n",
      "Your final bill is 15\n"
     ]
    }
   ],
   "source": [
    "print(\"Welcome to the rollercoaster!\")\n",
    "height=int(input(\"What is your height in cm? \"))\n",
    "\n",
    "if height>=120:\n",
    "    print(\"You can ride the rollercoaster!\")\n",
    "    age=int(input(\"What is your age? \"))\n",
    "    if age < 12:\n",
    "        bill=5\n",
    "        print(\"Child tickets are $5. \")\n",
    "    elif age<=18:\n",
    "        bill=7\n",
    "        print(\"Youth tickets are $7. \")\n",
    "    else:\n",
    "        bill=12\n",
    "        print(\"Please pay $12. \")\n",
    "    #age if statement is all linked to age so indented in the same place. Match this indent to age to ask for sub questions.\n",
    "    #wants photo is asked to everyone regardless of age.\n",
    "    \n",
    "    wants_photo=input(\"Do you want a photo taken? Y or N. \")\n",
    "    if wants_photo==\"Y\":\n",
    "        #add $3, but for this we need to set a variable called bill for each age.\n",
    "        bill +=3 #same as writing bill=bill + 3.\n",
    "        \n",
    "    print(f\"Your final bill is {bill}\")\n",
    "    \n",
    "else:\n",
    "    print(\"Sorry, you have to grow taller before you can ride the rollercoaster. \")"
   ]
  },
  {
   "cell_type": "markdown",
   "metadata": {},
   "source": [
    "# Pizza order challenge"
   ]
  },
  {
   "cell_type": "code",
   "execution_count": 3,
   "metadata": {},
   "outputs": [
    {
     "name": "stdout",
     "output_type": "stream",
     "text": [
      "Welcome to the Python Pizza Deliveries\n",
      "What size pizza do you want? S, M, or L S\n",
      "Do you want pepperoni? Y or N Y\n",
      "Do you want extra cheese? Y or N Y\n",
      "Your final billl is $18\n"
     ]
    }
   ],
   "source": [
    "print(\"Welcome to the Python Pizza Deliveries\")\n",
    "size = input(\"What size pizza do you want? S, M, or L \")\n",
    "add_pepperoni = input(\"Do you want pepperoni? Y or N \")\n",
    "extra_cheese = input(\"Do you want extra cheese? Y or N \")\n",
    "#based on the above information we are going to calculate their final bill.\n",
    "#prices: S=$15, M=$20, L=$25\n",
    "#pepperoni: S=+$2, M/L=+$3\n",
    "#extra cheese for any size pizza= +$1\n",
    "\n",
    "if size==\"S\":\n",
    "    bill=15\n",
    "elif size==\"M\":\n",
    "    bill=20\n",
    "elif size==\"L\":\n",
    "    bill=25\n",
    "else:\n",
    "    bill=25\n",
    "    \n",
    "if add_pepperoni==\"Y\":\n",
    "    if size==\"S\":\n",
    "        bill +=2\n",
    "    else:\n",
    "        bill +=3\n",
    "\n",
    "if extra_cheese==\"Y\":\n",
    "    bill +=1\n",
    "\n",
    "print(f\"Your final billl is ${bill}\")\n",
    "\n",
    "\n",
    "    \n",
    "    "
   ]
  },
  {
   "cell_type": "markdown",
   "metadata": {},
   "source": [
    "# Logical operators"
   ]
  },
  {
   "cell_type": "markdown",
   "metadata": {},
   "source": [
    "Check for multiple conditions in the same line of code.\n",
    "e.g. if condition 1 & condition 2 & condition 3 etc.\n"
   ]
  },
  {
   "cell_type": "markdown",
   "metadata": {},
   "source": [
    "A and B >> both conditions have to be true for entire line of code to be true.\n",
    "\n",
    "C or D >> True if either are true\n",
    "\n",
    "not function will reverse condition. eg. not a>15 if a=12, would be false but reversed to true.\n"
   ]
  },
  {
   "cell_type": "code",
   "execution_count": 1,
   "metadata": {},
   "outputs": [],
   "source": [
    "#e.g. add an extra elif age>=45 and age <=55"
   ]
  },
  {
   "cell_type": "markdown",
   "metadata": {},
   "source": [
    "# Love calculator exercise"
   ]
  },
  {
   "cell_type": "markdown",
   "metadata": {},
   "source": [
    "Write a code that tests the compatibility of two people. \n",
    "\n",
    "Take both people's names and check for the number of times the letters in the word TRUE occurs. Then check for the number of times the letters in the word LOVE occurs. Then combine these numbers to make a 2 digit number.\n",
    "\n",
    "For Love Scores less than 10 or greater than 90, the message should be:\n",
    "\n",
    "\"Your score is **x**, you go together like coke and mentos.\"\n",
    "\n",
    "For Love Scores between 40 and 50, the message should be:\n",
    "\n",
    "\"Your score is **y**, you are alright together.\"\n",
    "\n",
    "Otherwise, the message will just be their score. e.g.:\n",
    "\n",
    "\"Your score is **z**.\"\n"
   ]
  },
  {
   "cell_type": "markdown",
   "metadata": {},
   "source": [
    "Example:\n",
    "\n",
    "\n",
    "name1 = \"Angela Yu\"\n",
    "\n",
    "name2 = \"Jack Bauer\"\n",
    "\n",
    "T occurs 0 times\n",
    "\n",
    "R occurs 1 time\n",
    "\n",
    "U occurs 2 times\n",
    "\n",
    "E occurs 2 times\n",
    "\n",
    "Total = 5\n",
    "\n",
    "L occurs 1 time\n",
    "\n",
    "O occurs 0 times\n",
    "\n",
    "V occurs 0 times\n",
    "\n",
    "E occurs 2 times\n",
    "\n",
    "Total = 3\n",
    "\n",
    "Love Score = 53\n",
    "\n",
    "Print: \"Your score is 53.\"\\\n"
   ]
  },
  {
   "cell_type": "code",
   "execution_count": 6,
   "metadata": {},
   "outputs": [
    {
     "name": "stdout",
     "output_type": "stream",
     "text": [
      "What is the name of person 1?Pankhuri\n",
      "What is the name of person 2?Tyler\n"
     ]
    }
   ],
   "source": [
    "name1=input(\"What is the name of person 1?\")\n",
    "name2=input(\"What is the name of person 2?\")\n",
    "\n",
    "name3=name1 + name2\n",
    "name3=name3.lower()"
   ]
  },
  {
   "cell_type": "code",
   "execution_count": 12,
   "metadata": {},
   "outputs": [
    {
     "name": "stdout",
     "output_type": "stream",
     "text": [
      "Total is 5\n",
      "Total is 2\n",
      "Love Score is 52\n"
     ]
    }
   ],
   "source": [
    "T=name3.count('t')\n",
    "R=name3.count('r')\n",
    "U=name3.count('u')\n",
    "E=name3.count('e')\n",
    "\n",
    "Total= T+R+U+E\n",
    "print(f\"Total is {Total}\")\n",
    "\n",
    "L=name3.count('l')\n",
    "O=name3.count('o')\n",
    "V=name3.count('v')\n",
    "E=name3.count('e')\n",
    "\n",
    "Total1=L+O+V+E\n",
    "print(f\"Total is {Total1}\")\n",
    "\n",
    "LoveScore=str(Total)+str(Total1)\n",
    "print(f\"Love Score is {LoveScore}\")\n",
    "\n",
    "\n",
    "\n",
    "\n"
   ]
  },
  {
   "cell_type": "code",
   "execution_count": 13,
   "metadata": {},
   "outputs": [
    {
     "name": "stdout",
     "output_type": "stream",
     "text": [
      "Your score is 52.\n"
     ]
    }
   ],
   "source": [
    "#convert LoveScore to int to apply conditions\n",
    "LoveScore=int(LoveScore)\n",
    "\n",
    "if LoveScore<10 or int(LoveScore)>90:\n",
    "    print(f\"Your score is {LoveScore}, you go together like coke and mentos.\")\n",
    "elif LoveScore>40 and LoveScore<50:\n",
    "    print(f\"Your score is {LoveScore}, you are alright together.\")\n",
    "else:\n",
    "    print(f\"Your score is {LoveScore}.\")\n",
    "\n",
    "\n",
    "    "
   ]
  },
  {
   "cell_type": "markdown",
   "metadata": {},
   "source": [
    "# Day3 Project - Treasure Island\n"
   ]
  },
  {
   "cell_type": "markdown",
   "metadata": {},
   "source": [
    "Make your own \"Choose Your Own Adventure\" game. Use conditionals such as if, else, and elif statements to lay out the logic and the story's path in your program.\n",
    "\n",
    "To write your code according to my story, you can use this flow chart from draw.io to help you.\n",
    "https://viewer.diagrams.net/?highlight=0000ff&edit=_blank&layers=1&nav=1&title=Treasure%20Island%20Conditional.drawio#Uhttps%3A%2F%2Fdrive.google.com%2Fuc%3Fid%3D1oDe4ehjWZipYRsVfeAx2HyB7LCQ8_Fvi%26export%3Ddownload"
   ]
  },
  {
   "cell_type": "code",
   "execution_count": 1,
   "metadata": {},
   "outputs": [
    {
     "name": "stdout",
     "output_type": "stream",
     "text": [
      "\n",
      "*******************************************************************************\n",
      "          |                   |                  |                     |\n",
      " _________|________________.=\"\"_;=.______________|_____________________|_______\n",
      "|                   |  ,-\"_,=\"\"     `\"=.|                  |\n",
      "|___________________|__\"=._o`\"-._        `\"=.______________|___________________\n",
      "          |                `\"=._o`\"=._      _`\"=._                     |\n",
      " _________|_____________________:=._o \"=._.\"_.-=\"'\"=.__________________|_______\n",
      "|                   |    __.--\" , ; `\"=._o.\" ,-\"\"\"-._ \".   |\n",
      "|___________________|_._\"  ,. .` ` `` ,  `\"-._\"-._   \". '__|___________________\n",
      "          |           |o`\"=._` , \"` `; .\". ,  \"-._\"-._; ;              |\n",
      " _________|___________| ;`-.o`\"=._; .\" ` '`.\"\\` . \"-._ /_______________|_______\n",
      "|                   | |o;    `\"-.o`\"=._``  '` \" ,__.--o;   |\n",
      "|___________________|_| ;     (#) `-.o `\"=.`_.--\"_o.-; ;___|___________________\n",
      "____/______/______/___|o;._    \"      `\".o|o_.--\"    ;o;____/______/______/____\n",
      "/______/______/______/_\"=._o--._        ; | ;        ; ;/______/______/______/_\n",
      "____/______/______/______/__\"=._o--._   ;o|o;     _._;o;____/______/______/____\n",
      "/______/______/______/______/____\"=._o._; | ;_.--\"o.--\"_/______/______/______/_\n",
      "____/______/______/______/______/_____\"=.o|o_.--\"\"___/______/______/______/____\n",
      "/______/______/______/______/______/______/______/______/______/______/_____ /\n",
      "*******************************************************************************\n",
      "\n",
      "Welcome to Treasure Island.\n",
      "Your mission is to find the treasure.\n",
      "You're at a cross road. Where do you want to go? Type \"left\" or \"right\" \n",
      "left\n",
      "You've come to a lake. There is an island in the middle of the lake. Type \"wait\" to wait for a boat. Type \"swim\" to swim across. \n",
      "swim\n",
      "You get attacked by an angry trout. Game Over.\n"
     ]
    }
   ],
   "source": [
    "print('''\n",
    "*******************************************************************************\n",
    "          |                   |                  |                     |\n",
    " _________|________________.=\"\"_;=.______________|_____________________|_______\n",
    "|                   |  ,-\"_,=\"\"     `\"=.|                  |\n",
    "|___________________|__\"=._o`\"-._        `\"=.______________|___________________\n",
    "          |                `\"=._o`\"=._      _`\"=._                     |\n",
    " _________|_____________________:=._o \"=._.\"_.-=\"'\"=.__________________|_______\n",
    "|                   |    __.--\" , ; `\"=._o.\" ,-\"\"\"-._ \".   |\n",
    "|___________________|_._\"  ,. .` ` `` ,  `\"-._\"-._   \". '__|___________________\n",
    "          |           |o`\"=._` , \"` `; .\". ,  \"-._\"-._; ;              |\n",
    " _________|___________| ;`-.o`\"=._; .\" ` '`.\"\\` . \"-._ /_______________|_______\n",
    "|                   | |o;    `\"-.o`\"=._``  '` \" ,__.--o;   |\n",
    "|___________________|_| ;     (#) `-.o `\"=.`_.--\"_o.-; ;___|___________________\n",
    "____/______/______/___|o;._    \"      `\".o|o_.--\"    ;o;____/______/______/____\n",
    "/______/______/______/_\"=._o--._        ; | ;        ; ;/______/______/______/_\n",
    "____/______/______/______/__\"=._o--._   ;o|o;     _._;o;____/______/______/____\n",
    "/______/______/______/______/____\"=._o._; | ;_.--\"o.--\"_/______/______/______/_\n",
    "____/______/______/______/______/_____\"=.o|o_.--\"\"___/______/______/______/____\n",
    "/______/______/______/______/______/______/______/______/______/______/_____ /\n",
    "*******************************************************************************\n",
    "''')\n",
    "print(\"Welcome to Treasure Island.\")\n",
    "print(\"Your mission is to find the treasure.\")\n",
    "\n",
    "#code begins here:\n",
    "\n",
    "choice1=input('You\\'re at a cross road. Where do you want to go? Type \"left\" or \"right\" \\n').lower()\n",
    "if choice1 == \"left\":\n",
    "  choice2 = input('You\\'ve come to a lake. There is an island in the middle of the lake. Type \"wait\" to wait for a boat. Type \"swim\" to swim across. \\n').lower()\n",
    "  if choice2 == \"wait\":\n",
    "    choice3 = input(\"You arrive at the island unharmed. There is a house with 3 doors. One red, one yellow and one blue. Which colour do you choose? \\n\").lower()\n",
    "    if choice3 == \"red\":\n",
    "      print(\"It's a room full of fire. Game Over.\")\n",
    "    elif choice3 == \"yellow\":\n",
    "      print(\"You found the treasure! You Win!\")\n",
    "    elif choice3 == \"blue\":\n",
    "      print(\"You enter a room of beasts. Game Over.\")\n",
    "    else:\n",
    "      print(\"You chose a door that doesn't exist. Game Over.\")\n",
    "  else:\n",
    "    print(\"You get attacked by an angry trout. Game Over.\")\n",
    "else:\n",
    "  print(\"You fell into a hole. Game Over.\")\n",
    "\n"
   ]
  }
 ],
 "metadata": {
  "kernelspec": {
   "display_name": "Python 3",
   "language": "python",
   "name": "python3"
  },
  "language_info": {
   "codemirror_mode": {
    "name": "ipython",
    "version": 3
   },
   "file_extension": ".py",
   "mimetype": "text/x-python",
   "name": "python",
   "nbconvert_exporter": "python",
   "pygments_lexer": "ipython3",
   "version": "3.8.5"
  }
 },
 "nbformat": 4,
 "nbformat_minor": 4
}
