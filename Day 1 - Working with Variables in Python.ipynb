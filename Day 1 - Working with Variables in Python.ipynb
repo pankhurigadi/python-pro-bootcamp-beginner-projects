{
 "cells": [
  {
   "cell_type": "markdown",
   "metadata": {},
   "source": [
    "# print() function"
   ]
  },
  {
   "cell_type": "code",
   "execution_count": 1,
   "metadata": {},
   "outputs": [
    {
     "name": "stdout",
     "output_type": "stream",
     "text": [
      "Hello world!\n"
     ]
    }
   ],
   "source": [
    "print(\"Hello world!\")\n",
    "#print() inside parentheses what you would like to print.\n",
    "#double quotes tell python that the words hello word is not code but text (strings)"
   ]
  },
  {
   "cell_type": "code",
   "execution_count": 2,
   "metadata": {},
   "outputs": [
    {
     "name": "stdout",
     "output_type": "stream",
     "text": [
      "Day 1 - Python Print Function\n"
     ]
    }
   ],
   "source": [
    "print(\"Day 1 - Python Print Function\")"
   ]
  },
  {
   "cell_type": "code",
   "execution_count": 3,
   "metadata": {},
   "outputs": [
    {
     "name": "stdout",
     "output_type": "stream",
     "text": [
      "Day-1 : Python Print function\n",
      "\n",
      "The function is declared like this:\n",
      "\n",
      "print('what to print')\n"
     ]
    }
   ],
   "source": [
    "print(\"Day-1 : Python Print function\\n\\nThe function is declared like this:\\n\\nprint('what to print')\")"
   ]
  },
  {
   "cell_type": "markdown",
   "metadata": {},
   "source": [
    "# String manipulation\n"
   ]
  },
  {
   "cell_type": "code",
   "execution_count": 5,
   "metadata": {},
   "outputs": [],
   "source": [
    "#\\n (backslash n starts code on a new line)"
   ]
  },
  {
   "cell_type": "code",
   "execution_count": 13,
   "metadata": {},
   "outputs": [
    {
     "name": "stdout",
     "output_type": "stream",
     "text": [
      "Hello World!\n",
      "Hello World!\n",
      "Hello world!\n"
     ]
    }
   ],
   "source": [
    "print(\"Hello World!\\nHello World!\\nHello world!\")\n"
   ]
  },
  {
   "cell_type": "code",
   "execution_count": 14,
   "metadata": {},
   "outputs": [],
   "source": [
    "#+ to combine strings"
   ]
  },
  {
   "cell_type": "code",
   "execution_count": 15,
   "metadata": {},
   "outputs": [
    {
     "name": "stdout",
     "output_type": "stream",
     "text": [
      "HelloPankhuri\n"
     ]
    }
   ],
   "source": [
    "print(\"Hello\"+ \"Pankhuri\")"
   ]
  },
  {
   "cell_type": "code",
   "execution_count": 32,
   "metadata": {},
   "outputs": [
    {
     "name": "stdout",
     "output_type": "stream",
     "text": [
      "Hello Pankhuri\n",
      "+\n"
     ]
    }
   ],
   "source": [
    "#adding spaces to strings\n",
    "print(\"Hello\"+ \" \" + \"Pankhuri\")\n",
    "print(\"+\")"
   ]
  },
  {
   "cell_type": "markdown",
   "metadata": {},
   "source": [
    "# Debugging code"
   ]
  },
  {
   "cell_type": "code",
   "execution_count": 1,
   "metadata": {},
   "outputs": [
    {
     "name": "stdout",
     "output_type": "stream",
     "text": [
      "Day 1 - String Manipulation\n"
     ]
    }
   ],
   "source": [
    "#double quotes\n",
    "print(\"Day 1 - String Manipulation\")"
   ]
  },
  {
   "cell_type": "code",
   "execution_count": 2,
   "metadata": {},
   "outputs": [
    {
     "name": "stdout",
     "output_type": "stream",
     "text": [
      "String concatenation is done with the \"+\" sign.\n"
     ]
    }
   ],
   "source": [
    "#outer double quotes changed to single quotes\n",
    "print('String concatenation is done with the \"+\" sign.')"
   ]
  },
  {
   "cell_type": "markdown",
   "metadata": {},
   "source": [
    "# input() function"
   ]
  },
  {
   "cell_type": "code",
   "execution_count": 1,
   "metadata": {},
   "outputs": [
    {
     "name": "stdout",
     "output_type": "stream",
     "text": [
      "What is your name?Pankhuri\n"
     ]
    },
    {
     "data": {
      "text/plain": [
       "'Pankhuri'"
      ]
     },
     "execution_count": 1,
     "metadata": {},
     "output_type": "execute_result"
    }
   ],
   "source": [
    "#prompts user to enter some data\n",
    "input(\"What is your name?\")\n"
   ]
  },
  {
   "cell_type": "code",
   "execution_count": 2,
   "metadata": {},
   "outputs": [
    {
     "name": "stdout",
     "output_type": "stream",
     "text": [
      "What is your name?Pankhuri\n",
      "Hello Pankhuri!\n"
     ]
    }
   ],
   "source": [
    "#nested print function with input function\n",
    "print(\"Hello \" + input(\"What is your name?\") + \"!\")"
   ]
  },
  {
   "cell_type": "code",
   "execution_count": 3,
   "metadata": {},
   "outputs": [
    {
     "name": "stdout",
     "output_type": "stream",
     "text": [
      "What is your name?Pankhuri\n",
      "8\n"
     ]
    }
   ],
   "source": [
    "#input() exercise - create a code that counts number of letters in a name\n",
    "print(len(input(\"What is your name?\")))"
   ]
  },
  {
   "cell_type": "markdown",
   "metadata": {},
   "source": [
    "# Python variables"
   ]
  },
  {
   "cell_type": "code",
   "execution_count": 6,
   "metadata": {},
   "outputs": [
    {
     "name": "stdout",
     "output_type": "stream",
     "text": [
      "What is your name?Pankhuri\n",
      "Pankhuri\n"
     ]
    }
   ],
   "source": [
    "#can assign a user input to a variable. It is as if we have saved the data down.\n",
    "name=input(\"What is your name?\")\n",
    "print(name)"
   ]
  },
  {
   "cell_type": "code",
   "execution_count": 7,
   "metadata": {},
   "outputs": [
    {
     "name": "stdout",
     "output_type": "stream",
     "text": [
      "Sonali\n"
     ]
    }
   ],
   "source": [
    "#can easily change the variable\n",
    "name=\"Sonali\"\n",
    "print(name)"
   ]
  },
  {
   "cell_type": "code",
   "execution_count": 13,
   "metadata": {},
   "outputs": [
    {
     "name": "stdout",
     "output_type": "stream",
     "text": [
      "a:5\n",
      "b:100\n",
      "a= 100\n",
      "b= 5\n"
     ]
    }
   ],
   "source": [
    "#variables exercise - switch the values of these variables below\n",
    "a= input(\"a:\")\n",
    "b=input(\"b:\")\n",
    "\n",
    "#switch the variables around. Introduce a third variable.\n",
    "c=a\n",
    "a=b\n",
    "b=c\n",
    "\n",
    "print(\"a= \"+ a)\n",
    "print(\"b= \"+ b)"
   ]
  },
  {
   "cell_type": "code",
   "execution_count": 14,
   "metadata": {},
   "outputs": [
    {
     "name": "stdout",
     "output_type": "stream",
     "text": [
      "What is your name?Pankhuri\n"
     ]
    }
   ],
   "source": [
    "#separate words in naming of variables using _\n",
    "user_name=input(\"What is your name?\")\n",
    "\n"
   ]
  },
  {
   "cell_type": "markdown",
   "metadata": {},
   "source": [
    "# Day 1 Project - Band Name Generator"
   ]
  },
  {
   "cell_type": "code",
   "execution_count": 6,
   "metadata": {},
   "outputs": [
    {
     "name": "stdout",
     "output_type": "stream",
     "text": [
      "Welcome to this program\n"
     ]
    }
   ],
   "source": [
    "#1. create a greeting for your program\n",
    "print(\"Welcome to this program\")"
   ]
  },
  {
   "cell_type": "code",
   "execution_count": 7,
   "metadata": {},
   "outputs": [
    {
     "name": "stdout",
     "output_type": "stream",
     "text": [
      "What city did you grow up in?Guildford\n",
      "What is the name of your pet?Snowy\n"
     ]
    }
   ],
   "source": [
    "#2. ask user for city they grew up in\n",
    "city=input(\"What city did you grow up in?\")\n",
    "pet_name=input(\"What is the name of your pet?\")"
   ]
  },
  {
   "cell_type": "code",
   "execution_count": 22,
   "metadata": {},
   "outputs": [
    {
     "name": "stdout",
     "output_type": "stream",
     "text": [
      "Your band name is Guildford Snowy\n"
     ]
    }
   ],
   "source": [
    "#4. combine city name adn pet name and show them their band name\n",
    "print(\"Your band name is \"+ city + \" \" + pet_name)"
   ]
  }
 ],
 "metadata": {
  "kernelspec": {
   "display_name": "Python 3",
   "language": "python",
   "name": "python3"
  },
  "language_info": {
   "codemirror_mode": {
    "name": "ipython",
    "version": 3
   },
   "file_extension": ".py",
   "mimetype": "text/x-python",
   "name": "python",
   "nbconvert_exporter": "python",
   "pygments_lexer": "ipython3",
   "version": "3.8.5"
  }
 },
 "nbformat": 4,
 "nbformat_minor": 4
}
