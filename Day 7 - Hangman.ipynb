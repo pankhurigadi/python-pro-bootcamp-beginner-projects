{
 "cells": [
  {
   "cell_type": "markdown",
   "metadata": {},
   "source": [
    "# Resources"
   ]
  },
  {
   "cell_type": "markdown",
   "metadata": {},
   "source": [
    "How the Hangman game works: https://en.wikipedia.org/wiki/Hangman_(game)\n",
    "\n",
    "Hangman online game: https://hangmanwordgame.com/?fca=1&success=0#/\n",
    "\n"
   ]
  },
  {
   "cell_type": "markdown",
   "metadata": {},
   "source": [
    "# Challenge 1: Picking random words and checking answers"
   ]
  },
  {
   "cell_type": "code",
   "execution_count": 5,
   "metadata": {},
   "outputs": [
    {
     "name": "stdout",
     "output_type": "stream",
     "text": [
      "Guess a letter: a\n",
      "Wrong\n",
      "Right\n",
      "Wrong\n",
      "Wrong\n",
      "Wrong\n"
     ]
    }
   ],
   "source": [
    "word_list=[\"aardvark\", \"baboon\", \"camel\"]\n",
    "\n",
    "#randomly choose a word from word_list and assign it to a variable called chosen_word\n",
    "import random\n",
    "chosen_word=random.choice(word_list)\n",
    "\n",
    "#ask the user to guess a letter and assign their answer to a variable called guess. Make guess lowercase.\n",
    "guess=input(\"Guess a letter: \").lower()\n",
    "\n",
    "#check if the letter the user guessed (guess) is one of the letters in the chosen_word\n",
    "for letter in chosen_word:\n",
    "    if letter==guess:\n",
    "        print(\"Right\")\n",
    "    else:\n",
    "        print(\"Wrong\")\n"
   ]
  },
  {
   "cell_type": "markdown",
   "metadata": {},
   "source": [
    "# Challenge 2: Replacing blanks with guesses"
   ]
  },
  {
   "cell_type": "code",
   "execution_count": null,
   "metadata": {},
   "outputs": [
    {
     "name": "stdout",
     "output_type": "stream",
     "text": [
      "The solution is camel\n"
     ]
    }
   ],
   "source": [
    "#print 'display' and you should see the guessed letter in the correct position and every other letter replaced with \"-\".\n",
    "#Testing code\n",
    "print(f\"The solution is {chosen_word}\")\n",
    "\n",
    "\n",
    "#create an empty list called display, and for each letter in chosen_word, add a \"_\" to 'display'\n",
    "display=[]\n",
    "word_length=len(chosen_word)\n",
    "for letter in range(word_length):\n",
    "    display+=\"_\"\n",
    "    \n",
    "\n",
    "    guess=input(\"Guess a letter: \").lower()\n",
    "\n",
    "for position in range(len(chosen_word)):\n",
    "    letter=chosen_word[position]\n",
    "    if letter==guess:\n",
    "        display[position]=letter\n",
    "        \n",
    "print(display)\n",
    "\n",
    "\n",
    "\n"
   ]
  }
 ],
 "metadata": {
  "kernelspec": {
   "display_name": "Python 3",
   "language": "python",
   "name": "python3"
  },
  "language_info": {
   "codemirror_mode": {
    "name": "ipython",
    "version": 3
   },
   "file_extension": ".py",
   "mimetype": "text/x-python",
   "name": "python",
   "nbconvert_exporter": "python",
   "pygments_lexer": "ipython3",
   "version": "3.8.5"
  }
 },
 "nbformat": 4,
 "nbformat_minor": 4
}
