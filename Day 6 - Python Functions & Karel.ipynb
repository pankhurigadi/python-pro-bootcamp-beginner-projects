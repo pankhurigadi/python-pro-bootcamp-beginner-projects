{
 "cells": [
  {
   "cell_type": "markdown",
   "metadata": {},
   "source": [
    "Code blocks, Functions and While Loops"
   ]
  },
  {
   "cell_type": "markdown",
   "metadata": {},
   "source": [
    "# Defining and calling Python functions"
   ]
  },
  {
   "cell_type": "code",
   "execution_count": 1,
   "metadata": {},
   "outputs": [
    {
     "name": "stdout",
     "output_type": "stream",
     "text": [
      "Hello\n"
     ]
    }
   ],
   "source": [
    "print(\"Hello\")"
   ]
  },
  {
   "cell_type": "code",
   "execution_count": 4,
   "metadata": {},
   "outputs": [
    {
     "name": "stdout",
     "output_type": "stream",
     "text": [
      "5\n"
     ]
    }
   ],
   "source": [
    "num_char=len(\"Hello\")\n",
    "print(num_char)\n"
   ]
  },
  {
   "cell_type": "markdown",
   "metadata": {},
   "source": [
    "# Defining a function"
   ]
  },
  {
   "cell_type": "code",
   "execution_count": 5,
   "metadata": {},
   "outputs": [
    {
     "name": "stdout",
     "output_type": "stream",
     "text": [
      "Hello\n",
      "Bye\n"
     ]
    }
   ],
   "source": [
    "#everything below indentation is what we want the function to do.\n",
    "def my_function():\n",
    "    print(\"Hello\")\n",
    "    print(\"Bye\")\n",
    "\n",
    "#call the function\n",
    "my_function()"
   ]
  },
  {
   "cell_type": "markdown",
   "metadata": {},
   "source": [
    "# Hurdles Loop challenge"
   ]
  },
  {
   "cell_type": "code",
   "execution_count": 7,
   "metadata": {},
   "outputs": [],
   "source": [
    "#def turn_right():\n",
    "   #turn_left()\n",
    "    #turn_left()\n",
    "    #turn_left()\n",
    "\n",
    "#def jump():\n",
    "    #move()\n",
    "    #turn_left()\n",
    "    #move()\n",
    "    #turn_right()\n",
    "    #move()\n",
    "    #turn_right()\n",
    "    #move()\n",
    "    #turn_left()\n",
    "    \n",
    "#for step in range(6):\n",
    "    #jump()\n",
    "    "
   ]
  },
  {
   "cell_type": "markdown",
   "metadata": {},
   "source": [
    "# Indentation"
   ]
  },
  {
   "cell_type": "markdown",
   "metadata": {},
   "source": [
    "Add indented lines of code to create blocks of code.\n",
    "\n",
    "Functions are like folders. Anything inside the folder is indented and runs when we call the function.\n",
    "\n",
    "2 ways to create identations:\n",
    "1. Spaces\n",
    "2. Tabs"
   ]
  },
  {
   "cell_type": "markdown",
   "metadata": {},
   "source": [
    "# For loops vs While loops"
   ]
  },
  {
   "cell_type": "markdown",
   "metadata": {},
   "source": [
    "For loops:\n",
    "\n",
    "1. Loop through a list of items.\n",
    "\n",
    "e.g. for item in list_of_items:\n",
    "\n",
    "#Do something to each item.\n",
    "\n",
    "2. Range function betweeen (a,b) and use all items to do something.\n",
    "\n",
    "e.g. for number in range(a,b):\n",
    "\n",
    "#Do something to each item."
   ]
  },
  {
   "cell_type": "markdown",
   "metadata": {},
   "source": [
    "While loops:\n",
    "\n",
    "While something is true, do something repeatedly."
   ]
  },
  {
   "cell_type": "code",
   "execution_count": 8,
   "metadata": {},
   "outputs": [],
   "source": [
    "#number_of_hurdles=6\n",
    "#while number_of_hurdles>0:\n",
    "    #jump()\n",
    "    #number_of_hurdles-=1\n",
    "    #print(number_of_hurdles)"
   ]
  }
 ],
 "metadata": {
  "kernelspec": {
   "display_name": "Python 3",
   "language": "python",
   "name": "python3"
  },
  "language_info": {
   "codemirror_mode": {
    "name": "ipython",
    "version": 3
   },
   "file_extension": ".py",
   "mimetype": "text/x-python",
   "name": "python",
   "nbconvert_exporter": "python",
   "pygments_lexer": "ipython3",
   "version": "3.8.5"
  }
 },
 "nbformat": 4,
 "nbformat_minor": 4
}
