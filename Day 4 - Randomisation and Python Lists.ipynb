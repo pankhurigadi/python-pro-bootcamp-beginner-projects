{
 "cells": [
  {
   "cell_type": "markdown",
   "metadata": {},
   "source": [
    "Import random module to generate random integers."
   ]
  },
  {
   "cell_type": "code",
   "execution_count": 1,
   "metadata": {},
   "outputs": [],
   "source": [
    "import random"
   ]
  },
  {
   "cell_type": "code",
   "execution_count": 5,
   "metadata": {},
   "outputs": [
    {
     "name": "stdout",
     "output_type": "stream",
     "text": [
      "10\n"
     ]
    }
   ],
   "source": [
    "#generate a random number between 1 and 10.\n",
    "random_integer=random.randint(1,10)\n",
    "print(random_integer)"
   ]
  },
  {
   "cell_type": "code",
   "execution_count": 6,
   "metadata": {},
   "outputs": [
    {
     "name": "stdout",
     "output_type": "stream",
     "text": [
      "0.709653957618776\n"
     ]
    }
   ],
   "source": [
    "#generate random float between 0 and 1\n",
    "random_float=random.random()\n",
    "print(random_float)\n"
   ]
  },
  {
   "cell_type": "code",
   "execution_count": 7,
   "metadata": {},
   "outputs": [
    {
     "name": "stdout",
     "output_type": "stream",
     "text": [
      "1.3511293819081138\n"
     ]
    }
   ],
   "source": [
    "#expand range from 0 to 1 to 0 to 5\n",
    "random_float_2=random.random()*5\n",
    "print(random_float_2)"
   ]
  },
  {
   "cell_type": "markdown",
   "metadata": {},
   "source": [
    "# Heads or tails exercise"
   ]
  },
  {
   "cell_type": "code",
   "execution_count": 10,
   "metadata": {},
   "outputs": [
    {
     "name": "stdout",
     "output_type": "stream",
     "text": [
      "Heads\n"
     ]
    }
   ],
   "source": [
    "import random\n",
    "random_side=random.randint(0,1)\n",
    "\n",
    "if random_side==1:\n",
    "    print(\"Heads\")\n",
    "    \n",
    "else:\n",
    "    print(\"Tails\")\n"
   ]
  },
  {
   "cell_type": "markdown",
   "metadata": {},
   "source": [
    "# Lists"
   ]
  },
  {
   "cell_type": "markdown",
   "metadata": {},
   "source": [
    "e.g. fruits=[item1,item2]\n",
    "\n",
    "Lists use square brackets. Lists retain an order which is important."
   ]
  },
  {
   "cell_type": "code",
   "execution_count": 12,
   "metadata": {},
   "outputs": [
    {
     "name": "stdout",
     "output_type": "stream",
     "text": [
      "apple\n"
     ]
    }
   ],
   "source": [
    "#pull out an item in the list\n",
    "fruits=[\"apple\",\"banana\"]\n",
    "print(fruits[0])"
   ]
  },
  {
   "cell_type": "code",
   "execution_count": 13,
   "metadata": {},
   "outputs": [
    {
     "name": "stdout",
     "output_type": "stream",
     "text": [
      "['apple', 'banana', 'Strawberry']\n"
     ]
    }
   ],
   "source": [
    "#add a single item to the end of the list using .append\n",
    "#use .extend to extend an existing list with another list.\n",
    "fruits.append(\"Strawberry\")\n",
    "print(fruits)"
   ]
  },
  {
   "cell_type": "markdown",
   "metadata": {},
   "source": [
    "# Banker roulette exercise"
   ]
  },
  {
   "cell_type": "markdown",
   "metadata": {},
   "source": [
    "You are going to write a program which will select a random name from a list of names. The person selected will have to pay for everybody's food bill."
   ]
  },
  {
   "cell_type": "code",
   "execution_count": 2,
   "metadata": {},
   "outputs": [
    {
     "name": "stdout",
     "output_type": "stream",
     "text": [
      "Give me everybody's names, separated by a comma. Anna, Jess, Sam\n",
      "0\n",
      "Anna is going to buy the meal today. \n"
     ]
    }
   ],
   "source": [
    "names_string = input(\"Give me everybody's names, separated by a comma. \")\n",
    "#split string into individual names and put in a list\n",
    "names = names_string.split(\", \")\n",
    "#use len() to find number of elements in a list.\n",
    "number_items=len(names)\n",
    "\n",
    "import random\n",
    "random_choice=random.randint(0,number_items-1)\n",
    "#index is one less the number of items in the list. Hence the -1 in the line above.\n",
    "print(random_choice)\n",
    "person_who_will_pay=names[random_choice]\n",
    "print(person_who_will_pay + \" is going to buy the meal today. \")\n"
   ]
  },
  {
   "cell_type": "markdown",
   "metadata": {},
   "source": [
    "# Nested lists"
   ]
  },
  {
   "cell_type": "code",
   "execution_count": 3,
   "metadata": {},
   "outputs": [
    {
     "name": "stdout",
     "output_type": "stream",
     "text": [
      "[['Strawberries', 'Nectarines', 'Apples'], ['Tomatoes', 'Carrots', 'Cucumbers']]\n"
     ]
    }
   ],
   "source": [
    "fruits=[\"Strawberries\", \"Nectarines\", \"Apples\"]\n",
    "vegetables=[\"Tomatoes\", \"Carrots\", \"Cucumbers\"]\n",
    "\n",
    "healthy_foods=[fruits,vegetables]\n",
    "print(healthy_foods)\n"
   ]
  },
  {
   "cell_type": "code",
   "execution_count": 6,
   "metadata": {},
   "outputs": [
    {
     "name": "stdout",
     "output_type": "stream",
     "text": [
      "Carrots\n"
     ]
    }
   ],
   "source": [
    "print(healthy_foods[1][1]) #prints the second sub list and second item as index begins from 0."
   ]
  },
  {
   "cell_type": "markdown",
   "metadata": {},
   "source": [
    "# Treasure map exercise"
   ]
  },
  {
   "cell_type": "markdown",
   "metadata": {},
   "source": [
    "Write a program which will mark a spot with an X.\n",
    "\n",
    "The map is made of 3 rows of blank spaces.\n",
    "\n",
    "The first number is the horizontal column number and the second number is the vertical column number.\n"
   ]
  },
  {
   "cell_type": "code",
   "execution_count": 4,
   "metadata": {},
   "outputs": [
    {
     "name": "stdout",
     "output_type": "stream",
     "text": [
      "['', '', '']\n",
      "['', '', '']\n",
      "['', '', '']\n",
      "Where do you want to put the treasure? 23\n"
     ]
    }
   ],
   "source": [
    "row1=[\"\",\"\",\"\"]\n",
    "row2=[\"\",\"\",\"\"]\n",
    "row3=[\"\",\"\",\"\"]\n",
    "map=[row1,row2,row3]\n",
    "print(f\"{row1}\\n{row2}\\n{row3}\")\n",
    "position=input(\"Where do you want to put the treasure? \")\n",
    "\n",
    "horizontal=int(position[0])\n",
    "vertical=int(position[1])\n",
    "\n",
    "selected_row=map[horizontal-1][vertical-1]=\"X\""
   ]
  },
  {
   "cell_type": "markdown",
   "metadata": {},
   "source": [
    "# Rock paper scissors game\n"
   ]
  },
  {
   "cell_type": "markdown",
   "metadata": {},
   "source": [
    "Create a rock-paper-scissors game."
   ]
  },
  {
   "cell_type": "code",
   "execution_count": 8,
   "metadata": {},
   "outputs": [
    {
     "name": "stdout",
     "output_type": "stream",
     "text": [
      "What do you choose? Type 0 for Rock, 1 for Paper or 2 for Scissors. \n",
      " 5\n",
      "Invalid number!\n",
      "Computer chose:\n",
      "\n",
      "    _______\n",
      "---'   ____)\n",
      "      (_____)\n",
      "      (_____)\n",
      "      (____)\n",
      "---.__(___)\n",
      "\n",
      "You typed an invalid number - you lose! \n"
     ]
    }
   ],
   "source": [
    "rock = '''\n",
    "    _______\n",
    "---'   ____)\n",
    "      (_____)\n",
    "      (_____)\n",
    "      (____)\n",
    "---.__(___)\n",
    "'''\n",
    "\n",
    "paper = '''\n",
    "    _______\n",
    "---'   ____)____\n",
    "          ______)\n",
    "          _______)\n",
    "         _______)\n",
    "---.__________)\n",
    "'''\n",
    "\n",
    "scissors = '''\n",
    "    _______\n",
    "---'   ____)____\n",
    "          ______)\n",
    "       __________)\n",
    "      (____)\n",
    "---.__(___)\n",
    "'''\n",
    "\n",
    "#rules \n",
    "#Rock vs paper-> paper wins\n",
    "#Rock vs scissor-> Rock wins\n",
    "#paper vs scissor-> scissor wins.\n",
    "\n",
    "game=[rock,paper,scissors]\n",
    "\n",
    "#ask the player what they want to choose. Type 0 for rock, 1 for paper, 2 for scissors\n",
    "user_choice=int(input(\"What do you choose? Type 0 for Rock, 1 for Paper or 2 for Scissors. \\n \"))\n",
    "\n",
    "if user_choice<=len(game) and user_choice>0:\n",
    "    print(game[user_choice])\n",
    "else:\n",
    "    print(\"Invalid number!\")\n",
    "\n",
    "#generate random choice for computer\n",
    "import random\n",
    "computer_choice=random.randint(0,2)\n",
    "print(\"Computer chose:\")\n",
    "print(game[computer_choice])\n",
    "\n",
    "if user_choice>=len(game) and user_choice>0:\n",
    "    print(\"You typed an invalid number - you lose! \")\n",
    "elif user_choice==0 and computer_choice==2:\n",
    "    print(\"You win!\")\n",
    "elif computer_choice==0 and user_choice==2:\n",
    "    print(\"You lose!\")\n",
    "elif computer_choice>user_choice:\n",
    "    print(\"You lose!\")\n",
    "elif user_choice>computer_choice:\n",
    "    print(\"You win!\")\n",
    "elif user_choice==computer_choice:\n",
    "    print(\"You draw!\")\n",
    "\n",
    "    "
   ]
  }
 ],
 "metadata": {
  "kernelspec": {
   "display_name": "Python 3",
   "language": "python",
   "name": "python3"
  },
  "language_info": {
   "codemirror_mode": {
    "name": "ipython",
    "version": 3
   },
   "file_extension": ".py",
   "mimetype": "text/x-python",
   "name": "python",
   "nbconvert_exporter": "python",
   "pygments_lexer": "ipython3",
   "version": "3.8.5"
  }
 },
 "nbformat": 4,
 "nbformat_minor": 4
}
