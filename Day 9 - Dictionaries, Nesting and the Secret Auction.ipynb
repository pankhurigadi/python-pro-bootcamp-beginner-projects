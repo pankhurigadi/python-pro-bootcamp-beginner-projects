{
 "cells": [
  {
   "cell_type": "markdown",
   "metadata": {},
   "source": [
    "# Dictionaries"
   ]
  },
  {
   "cell_type": "markdown",
   "metadata": {},
   "source": [
    "Dictionaries in Python are like a table with 2 columns- key (represents the word) and value (represents the definition of the word).\n",
    "\n",
    "Everything in curly brackets represents what is in our dictionary."
   ]
  },
  {
   "cell_type": "code",
   "execution_count": 1,
   "metadata": {},
   "outputs": [],
   "source": [
    "dictionary={\"Bug\": \"An error in the program\",\n",
    "           \"Function\":\"A piece of code you can call over again and again\"}"
   ]
  },
  {
   "cell_type": "code",
   "execution_count": 2,
   "metadata": {},
   "outputs": [
    {
     "name": "stdout",
     "output_type": "stream",
     "text": [
      "An error in the program\n"
     ]
    }
   ],
   "source": [
    "#Retrieving an item from the dictionary\n",
    "print(dictionary[\"Bug\"])"
   ]
  },
  {
   "cell_type": "code",
   "execution_count": 3,
   "metadata": {},
   "outputs": [],
   "source": [
    "#Adding new items to dictionary\n",
    "dictionary[\"Loop\"]=\"The action of doing something over and over again\""
   ]
  },
  {
   "cell_type": "code",
   "execution_count": 4,
   "metadata": {},
   "outputs": [
    {
     "name": "stdout",
     "output_type": "stream",
     "text": [
      "{'Bug': 'An error in the program', 'Function': 'A piece of code you can call over again and again', 'Loop': 'The action of doing something over and over again'}\n"
     ]
    }
   ],
   "source": [
    "print(dictionary)"
   ]
  },
  {
   "cell_type": "code",
   "execution_count": 7,
   "metadata": {},
   "outputs": [],
   "source": [
    "#create an empty dictionary\n",
    "empty_dictionary={}"
   ]
  },
  {
   "cell_type": "code",
   "execution_count": 8,
   "metadata": {},
   "outputs": [],
   "source": [
    "#wipe an existing dictionary\n",
    "#dictionary={}\n",
    "#print(dictionary)"
   ]
  },
  {
   "cell_type": "code",
   "execution_count": 5,
   "metadata": {},
   "outputs": [
    {
     "name": "stdout",
     "output_type": "stream",
     "text": [
      "{'Bug': 'A moth in your computer', 'Function': 'A piece of code you can call over again and again'}\n"
     ]
    }
   ],
   "source": [
    "#edit an item in a dictionary\n",
    "dictionary={\"Bug\": \"An error in the program\",\n",
    "           \"Function\":\"A piece of code you can call over again and again\"}\n",
    "dictionary[\"Bug\"]=\"A moth in your computer\"\n",
    "print(dictionary)"
   ]
  },
  {
   "cell_type": "code",
   "execution_count": 6,
   "metadata": {},
   "outputs": [
    {
     "name": "stdout",
     "output_type": "stream",
     "text": [
      "Bug\n",
      "Function\n"
     ]
    }
   ],
   "source": [
    "#Loop through a dictionary\n",
    "for thing in dictionary:\n",
    "    print(thing)\n",
    "#this just gives you the keys, not the values"
   ]
  },
  {
   "cell_type": "code",
   "execution_count": 8,
   "metadata": {},
   "outputs": [
    {
     "name": "stdout",
     "output_type": "stream",
     "text": [
      "Bug\n",
      "A moth in your computer\n",
      "Function\n",
      "A piece of code you can call over again and again\n"
     ]
    }
   ],
   "source": [
    "#print keys\n",
    "for key in dictionary:\n",
    "    print(key)\n",
    "    print(dictionary[key])"
   ]
  },
  {
   "cell_type": "markdown",
   "metadata": {},
   "source": [
    "# Grading program exercise"
   ]
  },
  {
   "cell_type": "code",
   "execution_count": 4,
   "metadata": {},
   "outputs": [
    {
     "name": "stdout",
     "output_type": "stream",
     "text": [
      "{'Harry': 'Exceeds Expectations', 'Ron': 'Acceptable', 'Hermione': 'Outstanding', 'Draco': 'Acceptable', 'Neville': 'Fail'}\n"
     ]
    }
   ],
   "source": [
    "#Create a program that grades students based on their test scores.\n",
    "student_scores={\n",
    "    \"Harry\": 81,\n",
    "    \"Ron\": 78,\n",
    "    \"Hermione\": 99,\n",
    "    \"Draco\": 74,\n",
    "    \"Neville\": 62,\n",
    "}\n",
    "\n",
    "#create an empty dictionary called student_grades\n",
    "student_grades={}\n",
    "\n",
    "#Create a for loop which passes through each student's name to display scores: 81,78,99 etc.\n",
    "for student in student_scores:\n",
    "    score=student_scores[student]\n",
    "\n",
    "#Convert scores into grades\n",
    "for student in student_scores:\n",
    "    score=student_scores[student]\n",
    "    if score>90:\n",
    "        student_grades[student]=\"Outstanding\"\n",
    "    elif score>80:\n",
    "        student_grades[student]=\"Exceeds Expectations\"\n",
    "    elif score>70:\n",
    "        student_grades[student]=\"Acceptable\"\n",
    "    else:\n",
    "        student_grades[student]=\"Fail\"\n",
    "        \n",
    "print(student_grades)\n",
    "\n",
    "\n"
   ]
  },
  {
   "cell_type": "markdown",
   "metadata": {},
   "source": [
    "# Nesting lists and dictionaries"
   ]
  },
  {
   "cell_type": "code",
   "execution_count": 5,
   "metadata": {},
   "outputs": [],
   "source": [
    "#Nesting\n",
    "capitals={\n",
    "    \"France\": \"Paris\",\n",
    "    \"Germany\": \"Berlin\",\n",
    "}\n",
    "\n",
    "#Nesting a list in a dictionary. Can't have multiple values in the key, so instead use a list.\n",
    "travel_log={\n",
    "    \"France\":[\"Paris\",\"Lille\",\"Lyon\"],\n",
    "    \"Germany\": [\"Berlin\",\"Hamburg\",\"Cologne\"]\n",
    "}\n",
    "\n",
    "#Nesting a dictionary in a dictionary\n",
    "travel_log={\n",
    "    \"France\": {\"cities_visited\":[\"Paris\",\"Lille\",\"Lyon\"],\"total_visits\": 12},\n",
    "    \"Germany\": {\"cities_visited\":[\"Berlin\",\"Hamburg\",\"Cologne\"],\"total_visits\": 5},\n",
    "}\n",
    "\n",
    "#Nesting a dictionary in a list\n",
    "travel_log=[\n",
    "    {\"country\": \"France\", \"cities_visited\":[\"Paris\",\"Lille\",\"Lyon\"],\"total_visits\": 12},\n",
    "    {\"country\": \"Germany\", \"cities_visited\":[\"Berlin\",\"Hamburg\",\"Cologne\"],\"total_visits\": 5},\n",
    "]\n",
    "\n"
   ]
  },
  {
   "cell_type": "markdown",
   "metadata": {},
   "source": [
    "# Dictionary in list exercise"
   ]
  },
  {
   "cell_type": "code",
   "execution_count": 1,
   "metadata": {},
   "outputs": [
    {
     "name": "stdout",
     "output_type": "stream",
     "text": [
      "Italy\n",
      "7\n",
      "[\"Venice\",\"Rome\"]\n",
      "I've been to Italy 7 times.\n",
      "My favourite city was Venice.\n"
     ]
    }
   ],
   "source": [
    "#You are going to write a program that adds to a travel_log. You can see a travel_log which is a List that contains 2 Dictionaries. Your job is to create a function that can add new countries to this list.\n",
    "country = input() # Add country name\n",
    "visits = int(input()) # Number of visits\n",
    "list_of_cities = eval(input()) # create list from formatted string\n",
    "\n",
    "travel_log = [\n",
    "  {\n",
    "    \"country\": \"France\",\n",
    "    \"visits\": 12,\n",
    "    \"cities\": [\"Paris\", \"Lille\", \"Dijon\"]\n",
    "  },\n",
    "  {\n",
    "    \"country\": \"Germany\",\n",
    "    \"visits\": 5,\n",
    "    \"cities\": [\"Berlin\", \"Hamburg\", \"Stuttgart\"]\n",
    "  },\n",
    "]\n",
    "\n",
    "\n",
    "def add_new_country(name, times_visited, cities_visited):\n",
    "    new_country = {}\n",
    "    new_country[\"country\"] = name\n",
    "    new_country[\"visits\"] = times_visited\n",
    "    new_country[\"cities\"] = cities_visited\n",
    "    travel_log.append(new_country)\n",
    "\n",
    "add_new_country(country, visits, list_of_cities)\n",
    "print(f\"I've been to {travel_log[2]['country']} {travel_log[2]['visits']} times.\")\n",
    "print(f\"My favourite city was {travel_log[2]['cities'][0]}.\")\n",
    "\n"
   ]
  },
  {
   "cell_type": "markdown",
   "metadata": {},
   "source": [
    "# The Secret Auction Program"
   ]
  },
  {
   "cell_type": "markdown",
   "metadata": {},
   "source": [
    "The objective is to write a program that will collect the names and bids of different people. The program should ask for each bidder's name and their bid individually.\n",
    "\n",
    "One way to approach this would be to consider the names as \"keys\" and the bids as \"values\". Then, the dictionary would contain a number of these key value pairs."
   ]
  },
  {
   "cell_type": "code",
   "execution_count": 7,
   "metadata": {},
   "outputs": [
    {
     "name": "stdout",
     "output_type": "stream",
     "text": [
      "What is your name?: Pankhuri\n",
      "What is your bid?: $120\n",
      "Are there any other bidders? Type 'yes or 'no'.\n",
      "yes\n",
      "What is your name?: Lucy\n",
      "What is your bid?: $100\n",
      "Are there any other bidders? Type 'yes or 'no'.\n",
      "no\n",
      "The winner is Pankhuri with a bid of $120\n"
     ]
    }
   ],
   "source": [
    "import os\n",
    "\n",
    "bids = {}\n",
    "bidding_finished = False\n",
    "\n",
    "def find_highest_bidder(bidding_record):\n",
    "  highest_bid = 0\n",
    "  winner = \"\"\n",
    "  # bidding_record = {\"Angela\": 123, \"James\": 321}\n",
    "  for bidder in bidding_record:\n",
    "    bid_amount = bidding_record[bidder]\n",
    "    if bid_amount > highest_bid: \n",
    "      highest_bid = bid_amount\n",
    "      winner = bidder\n",
    "  print(f\"The winner is {winner} with a bid of ${highest_bid}\")\n",
    "\n",
    "while not bidding_finished:\n",
    "  name = input(\"What is your name?: \")\n",
    "  price = int(input(\"What is your bid?: $\"))\n",
    "  bids[name] = price\n",
    "  should_continue = input(\"Are there any other bidders? Type 'yes or 'no'.\\n\")\n",
    "  if should_continue == \"no\":\n",
    "    bidding_finished = True\n",
    "    find_highest_bidder(bids)\n",
    "  elif should_continue == \"yes\":\n",
    "    os.system('cls')"
   ]
  },
  {
   "cell_type": "code",
   "execution_count": null,
   "metadata": {},
   "outputs": [],
   "source": []
  }
 ],
 "metadata": {
  "kernelspec": {
   "display_name": "Python 3",
   "language": "python",
   "name": "python3"
  },
  "language_info": {
   "codemirror_mode": {
    "name": "ipython",
    "version": 3
   },
   "file_extension": ".py",
   "mimetype": "text/x-python",
   "name": "python",
   "nbconvert_exporter": "python",
   "pygments_lexer": "ipython3",
   "version": "3.8.5"
  }
 },
 "nbformat": 4,
 "nbformat_minor": 4
}
